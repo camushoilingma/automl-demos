{
 "cells": [
  {
   "cell_type": "markdown",
   "metadata": {},
   "source": [
    "## Overview\n",
    "\n",
    "In this notebook we will train two models to translate text from Greek to English and English to Greek respectively, using [Google's AutomML Translation](\"https://cloud.google.com/translate/automl/docs?hl=en\"). This notebook and be easily modified to demo any of the 21 languages provided in the public dataset, namely: Romanic (French, Italian, Spanish, Portuguese, Romanian), Germanic (English, Dutch, German, Danish, Swedish), Slavik (Bulgarian, Czech, Polish, Slovak, Slovene), Finni-Ugric (Finnish, Hungarian, Estonian), Baltic (Latvian, Lithuanian), and Greek.\n",
    "\n",
    "The dataset used is the [European Parliment Proceedings](\"https://www.statmt.org/europarl/\")."
   ]
  },
  {
   "cell_type": "markdown",
   "metadata": {},
   "source": [
    "## Download and pre-process language files"
   ]
  },
  {
   "cell_type": "code",
   "execution_count": 2,
   "metadata": {},
   "outputs": [],
   "source": [
    "# Modify the language code to demo different languages\n",
    "LANGUAGE_CODE = 'el' #Greek"
   ]
  },
  {
   "cell_type": "code",
   "execution_count": 3,
   "metadata": {},
   "outputs": [
    {
     "name": "stdout",
     "output_type": "stream",
     "text": [
      "--2020-08-04 07:56:11--  https://www.statmt.org/europarl/v7/el-en.tgz\n",
      "Resolving www.statmt.org (www.statmt.org)... 129.215.197.184\n",
      "Connecting to www.statmt.org (www.statmt.org)|129.215.197.184|:443... connected.\n",
      "HTTP request sent, awaiting response... 200 OK\n",
      "Length: 151392701 (144M) [application/x-gzip]\n",
      "Saving to: ‘el-en.tgz.1’\n",
      "\n",
      "el-en.tgz.1          27%[====>               ]  40.04M  4.20MB/s    eta 26s    ^C\n"
     ]
    }
   ],
   "source": [
    "!wget https://www.statmt.org/europarl/v7/$LANGUAGE_CODE-en.tgz"
   ]
  },
  {
   "cell_type": "code",
   "execution_count": 7,
   "metadata": {},
   "outputs": [],
   "source": [
    "!tar -xzf $LANGUAGE_CODE-en.tgz"
   ]
  },
  {
   "cell_type": "markdown",
   "metadata": {},
   "source": [
    "## Create TSV files supported by AutoML Translate\n",
    "\n",
    "AutoML Translation supports TSV and TMX files. More info on [Preparing training data] ('https://cloud.google.com/translate/automl/docs/prepare?hl=en#comma-separated_values_csv')"
   ]
  },
  {
   "cell_type": "code",
   "execution_count": 25,
   "metadata": {},
   "outputs": [],
   "source": [
    "to_en_min = open('./{}_en.tsv'.format(LANGUAGE_CODE), 'w')\n",
    "from_en_min = open('./en_{}.tsv'.format(LANGUAGE_CODE), 'w')\n",
    "pt_f = open('./europarl-v7.{}-en.{}'.format(LANGUAGE_CODE, LANGUAGE_CODE), 'r').readlines()\n",
    "en_f = open('./europarl-v7.{}-en.en'.format(LANGUAGE_CODE), 'r').readlines()"
   ]
  },
  {
   "cell_type": "code",
   "execution_count": 27,
   "metadata": {},
   "outputs": [],
   "source": [
    "for i in range(0, 100000):\n",
    "  to_en_min.write(pt_f[i].strip() + '\\t' + en_f[i].strip() + '\\n')\n",
    "  from_en_min.write(en_f[i].strip() + '\\t' + pt_f[i].strip() + '\\n')\n",
    "\n",
    "to_en_min.close()\n",
    "from_en_min.close()"
   ]
  },
  {
   "cell_type": "markdown",
   "metadata": {},
   "source": [
    "## Store your training files in Google Cloud Storage"
   ]
  },
  {
   "cell_type": "code",
   "execution_count": 33,
   "metadata": {},
   "outputs": [],
   "source": [
    "BUCKET = 'gs://<BUCKET_NAME>' #Replace with name of your GCS bucket"
   ]
  },
  {
   "cell_type": "code",
   "execution_count": 32,
   "metadata": {},
   "outputs": [
    {
     "name": "stdout",
     "output_type": "stream",
     "text": [
      "Creating gs://camus-translate/...\n"
     ]
    }
   ],
   "source": [
    "# Run this only if your bucket does not exist\n",
    "!gsutil mb $BUCKET"
   ]
  },
  {
   "cell_type": "code",
   "execution_count": 35,
   "metadata": {},
   "outputs": [
    {
     "name": "stdout",
     "output_type": "stream",
     "text": [
      "Copying file://el_en.tsv [Content-Type=text/tab-separated-values]...\n",
      "Copying file://en_el.tsv [Content-Type=text/tab-separated-values]...            \n",
      "\\ [2 files][ 88.8 MiB/ 88.8 MiB]                                                \n",
      "Operation completed over 2 objects/88.8 MiB.                                     \n"
     ]
    }
   ],
   "source": [
    "!gsutil cp *.tsv $BUCKET"
   ]
  },
  {
   "cell_type": "markdown",
   "metadata": {},
   "source": [
    "## Train your models on AutoML Translate UI"
   ]
  },
  {
   "cell_type": "markdown",
   "metadata": {},
   "source": [
    "Now that you have your data prepared, the hard part is over ;) To train you model, you can use the APIs or the UI. Let's give the UI a try!\n",
    "\n",
    "1. Create your dataset by pointing to the TSV files stored in GCS, as described [here]('https://cloud.google.com/translate/automl/docs/datasets?hl=en')\n",
    "2. Start training as described [here]('https://cloud.google.com/translate/automl/docs/models?hl=en')\n",
    "\n",
    "This can take several hours and you will be notified via email when each stage is complete. So sit back and practice your Greek :)"
   ]
  },
  {
   "cell_type": "markdown",
   "metadata": {},
   "source": [
    "## Evaluate Model"
   ]
  },
  {
   "cell_type": "markdown",
   "metadata": {},
   "source": [
    "The model performance is given in terms of [BLUE Score]('https://cloud.google.com/translate/automl/docs/evaluate?hl=en#bleu'). This compares the generated text's closeness to the provided text. The higher the Bluescore the better."
   ]
  },
  {
   "cell_type": "markdown",
   "metadata": {},
   "source": [
    "## Use model for predictions"
   ]
  },
  {
   "cell_type": "markdown",
   "metadata": {},
   "source": [
    "As for all other AutoML functionalities, you can use the API or the UI. Here's and example of using the API for translating text."
   ]
  },
  {
   "cell_type": "code",
   "execution_count": 45,
   "metadata": {},
   "outputs": [],
   "source": [
    "project_id = ''\n",
    "model_id = '' # ex. TRL8577776192420052992\n",
    "file_path = 'test.txt' # Create your own test.txt file\n",
    "region = ''"
   ]
  },
  {
   "cell_type": "code",
   "execution_count": null,
   "metadata": {},
   "outputs": [],
   "source": [
    "!pip install google-cloud-automl"
   ]
  },
  {
   "cell_type": "code",
   "execution_count": 47,
   "metadata": {},
   "outputs": [
    {
     "name": "stdout",
     "output_type": "stream",
     "text": [
      "Translated content: I declare the session of the European Parliament adjourned.\n"
     ]
    }
   ],
   "source": [
    "from google.cloud import automl\n",
    "prediction_client = automl.PredictionServiceClient()\n",
    "\n",
    "# Get the full path of the model.\n",
    "model_full_id = prediction_client.model_path(\n",
    "    project_id, region, model_id\n",
    ")\n",
    "\n",
    "# Read the file content for translation.\n",
    "with open(file_path, \"rb\") as content_file:\n",
    "    content = content_file.read()\n",
    "content.decode(\"utf-8\")\n",
    "\n",
    "text_snippet = automl.types.TextSnippet(content=content)\n",
    "payload = automl.types.ExamplePayload(text_snippet=text_snippet)\n",
    "\n",
    "response = prediction_client.predict(model_full_id, payload)\n",
    "translated_content = response.payload[0].translation.translated_content\n",
    "\n",
    "print(u\"Translated content: {}\".format(translated_content.content))"
   ]
  },
  {
   "cell_type": "markdown",
   "metadata": {},
   "source": [
    "## Now let's compare that with basic Translation API"
   ]
  },
  {
   "cell_type": "markdown",
   "metadata": {},
   "source": [
    "First enable the Translate api for your project following the instructions [here]('https://cloud.google.com/translate/docs/setup')"
   ]
  },
  {
   "cell_type": "code",
   "execution_count": 48,
   "metadata": {},
   "outputs": [
    {
     "name": "stdout",
     "output_type": "stream",
     "text": [
      "Collecting google-cloud-translate\n",
      "  Downloading google_cloud_translate-2.0.2-py2.py3-none-any.whl (91 kB)\n",
      "\u001b[K     |████████████████████████████████| 91 kB 3.8 MB/s eta 0:00:011\n",
      "\u001b[?25hRequirement already satisfied, skipping upgrade: google-cloud-core<2.0dev,>=1.1.0 in /opt/conda/lib/python3.7/site-packages (from google-cloud-translate) (1.3.0)\n",
      "Requirement already satisfied, skipping upgrade: google-api-core[grpc]<2.0.0dev,>=1.15.0 in /opt/conda/lib/python3.7/site-packages (from google-cloud-translate) (1.16.0)\n",
      "Requirement already satisfied, skipping upgrade: googleapis-common-protos<2.0dev,>=1.6.0 in /opt/conda/lib/python3.7/site-packages (from google-api-core[grpc]<2.0.0dev,>=1.15.0->google-cloud-translate) (1.51.0)\n",
      "Requirement already satisfied, skipping upgrade: setuptools>=34.0.0 in /opt/conda/lib/python3.7/site-packages (from google-api-core[grpc]<2.0.0dev,>=1.15.0->google-cloud-translate) (45.2.0.post20200209)\n",
      "Requirement already satisfied, skipping upgrade: google-auth<2.0dev,>=0.4.0 in /opt/conda/lib/python3.7/site-packages (from google-api-core[grpc]<2.0.0dev,>=1.15.0->google-cloud-translate) (1.11.2)\n",
      "Requirement already satisfied, skipping upgrade: pytz in /opt/conda/lib/python3.7/site-packages (from google-api-core[grpc]<2.0.0dev,>=1.15.0->google-cloud-translate) (2019.3)\n",
      "Requirement already satisfied, skipping upgrade: requests<3.0.0dev,>=2.18.0 in /opt/conda/lib/python3.7/site-packages (from google-api-core[grpc]<2.0.0dev,>=1.15.0->google-cloud-translate) (2.23.0)\n",
      "Requirement already satisfied, skipping upgrade: six>=1.10.0 in /opt/conda/lib/python3.7/site-packages (from google-api-core[grpc]<2.0.0dev,>=1.15.0->google-cloud-translate) (1.14.0)\n",
      "Requirement already satisfied, skipping upgrade: protobuf>=3.4.0 in /opt/conda/lib/python3.7/site-packages (from google-api-core[grpc]<2.0.0dev,>=1.15.0->google-cloud-translate) (3.11.3)\n",
      "Requirement already satisfied, skipping upgrade: grpcio<2.0dev,>=1.8.2; extra == \"grpc\" in /opt/conda/lib/python3.7/site-packages (from google-api-core[grpc]<2.0.0dev,>=1.15.0->google-cloud-translate) (1.27.2)\n",
      "Requirement already satisfied, skipping upgrade: cachetools<5.0,>=2.0.0 in /opt/conda/lib/python3.7/site-packages (from google-auth<2.0dev,>=0.4.0->google-api-core[grpc]<2.0.0dev,>=1.15.0->google-cloud-translate) (4.0.0)\n",
      "Requirement already satisfied, skipping upgrade: pyasn1-modules>=0.2.1 in /opt/conda/lib/python3.7/site-packages (from google-auth<2.0dev,>=0.4.0->google-api-core[grpc]<2.0.0dev,>=1.15.0->google-cloud-translate) (0.2.8)\n",
      "Requirement already satisfied, skipping upgrade: rsa<4.1,>=3.1.4 in /opt/conda/lib/python3.7/site-packages (from google-auth<2.0dev,>=0.4.0->google-api-core[grpc]<2.0.0dev,>=1.15.0->google-cloud-translate) (4.0)\n",
      "Requirement already satisfied, skipping upgrade: urllib3!=1.25.0,!=1.25.1,<1.26,>=1.21.1 in /opt/conda/lib/python3.7/site-packages (from requests<3.0.0dev,>=2.18.0->google-api-core[grpc]<2.0.0dev,>=1.15.0->google-cloud-translate) (1.25.8)\n",
      "Requirement already satisfied, skipping upgrade: certifi>=2017.4.17 in /opt/conda/lib/python3.7/site-packages (from requests<3.0.0dev,>=2.18.0->google-api-core[grpc]<2.0.0dev,>=1.15.0->google-cloud-translate) (2019.11.28)\n",
      "Requirement already satisfied, skipping upgrade: idna<3,>=2.5 in /opt/conda/lib/python3.7/site-packages (from requests<3.0.0dev,>=2.18.0->google-api-core[grpc]<2.0.0dev,>=1.15.0->google-cloud-translate) (2.9)\n",
      "Requirement already satisfied, skipping upgrade: chardet<4,>=3.0.2 in /opt/conda/lib/python3.7/site-packages (from requests<3.0.0dev,>=2.18.0->google-api-core[grpc]<2.0.0dev,>=1.15.0->google-cloud-translate) (3.0.4)\n",
      "Requirement already satisfied, skipping upgrade: pyasn1<0.5.0,>=0.4.6 in /opt/conda/lib/python3.7/site-packages (from pyasn1-modules>=0.2.1->google-auth<2.0dev,>=0.4.0->google-api-core[grpc]<2.0.0dev,>=1.15.0->google-cloud-translate) (0.4.8)\n",
      "Installing collected packages: google-cloud-translate\n",
      "  Attempting uninstall: google-cloud-translate\n",
      "    Found existing installation: google-cloud-translate 2.0.1\n",
      "    Uninstalling google-cloud-translate-2.0.1:\n",
      "      Successfully uninstalled google-cloud-translate-2.0.1\n",
      "Successfully installed google-cloud-translate-2.0.2\n"
     ]
    }
   ],
   "source": [
    "!pip install --upgrade google-cloud-translate"
   ]
  },
  {
   "cell_type": "code",
   "execution_count": 51,
   "metadata": {},
   "outputs": [
    {
     "name": "stdout",
     "output_type": "stream",
     "text": [
      "Text: Κηρύσσω τη διακοπή της συνόδου του Ευρωπαϊκού Κοινοβουλίου.\n",
      "Translation: I declare the suspension of the sitting of the European Parliament.\n",
      "Detected source language: el\n"
     ]
    }
   ],
   "source": [
    "\"\"\"Translates text into the target language.\n",
    "\n",
    "Target must be an ISO 639-1 language code.\n",
    "See https://g.co/cloud/translate/v2/translate-reference#supported_languages\n",
    "\"\"\"\n",
    "from google.cloud import translate_v2 as translate\n",
    "translate_client = translate.Client()\n",
    "\n",
    "text = open('test.txt', 'r').readline()\n",
    "\n",
    "# Text can also be a sequence of strings, in which case this method\n",
    "# will return a sequence of results for each text.\n",
    "result = translate_client.translate(\n",
    "    text, target_language='en')\n",
    "\n",
    "print(u'Text: {}'.format(result['input']))\n",
    "print(u'Translation: {}'.format(result['translatedText']))\n",
    "print(u'Detected source language: {}'.format(\n",
    "    result['detectedSourceLanguage']))"
   ]
  }
 ],
 "metadata": {
  "kernelspec": {
   "display_name": "Python 3",
   "language": "python",
   "name": "python3"
  },
  "language_info": {
   "codemirror_mode": {
    "name": "ipython",
    "version": 3
   },
   "file_extension": ".py",
   "mimetype": "text/x-python",
   "name": "python",
   "nbconvert_exporter": "python",
   "pygments_lexer": "ipython3",
   "version": "3.7.6"
  }
 },
 "nbformat": 4,
 "nbformat_minor": 4
}
